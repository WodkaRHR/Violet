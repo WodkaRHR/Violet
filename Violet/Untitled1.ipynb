{
 "cells": [
  {
   "cell_type": "code",
   "execution_count": 38,
   "metadata": {},
   "outputs": [],
   "source": [
    "import torch\n",
    "import torch.nn as nn\n",
    "import torch.nn.functional as F\n",
    "import numpy as np\n",
    "import torch.optim as optim"
   ]
  },
  {
   "cell_type": "code",
   "execution_count": 13,
   "metadata": {},
   "outputs": [],
   "source": [
    "class MyNet(nn.Module):\n",
    "    \n",
    "    def __init__(self):\n",
    "        super().__init__()\n",
    "        self.fc1 = nn.Linear(5, 64)\n",
    "        self.fc2 = nn.Linear(64, 32)\n",
    "        self.fc3 = nn.Linear(32, 1)\n",
    "        \n",
    "    def forward(self, x):\n",
    "        x = self.fc1(x)\n",
    "        x = F.relu(x)\n",
    "        x = self.fc2(x)\n",
    "        x = F.relu(x)\n",
    "        x = self.fc3(x)\n",
    "        return x"
   ]
  },
  {
   "cell_type": "code",
   "execution_count": 14,
   "metadata": {},
   "outputs": [],
   "source": [
    "net = MyNet()"
   ]
  },
  {
   "cell_type": "code",
   "execution_count": 46,
   "metadata": {},
   "outputs": [],
   "source": [
    "x = np.random.randn(128, 5)\n",
    "x = torch.from_numpy(x).float()\n",
    "y_gnd = np.random.randn(128, 1)\n",
    "y_gnd = torch.from_numpy(y_gnd).float()"
   ]
  },
  {
   "cell_type": "code",
   "execution_count": 47,
   "metadata": {},
   "outputs": [
    {
     "name": "stdout",
     "output_type": "stream",
     "text": [
      "tensor(0.0083, grad_fn=<MeanBackward0>)\n"
     ]
    }
   ],
   "source": [
    "def criterion(y_pred, y_gnd):\n",
    "    return ((y_pred - y_gnd)**2).mean()\n",
    "\n",
    "y_pred = net(x)\n",
    "print(loss(y_pred, y))\n"
   ]
  },
  {
   "cell_type": "code",
   "execution_count": 48,
   "metadata": {},
   "outputs": [],
   "source": [
    "optimizer = optim.Adam(net.parameters(), lr=0.01)"
   ]
  },
  {
   "cell_type": "code",
   "execution_count": 53,
   "metadata": {},
   "outputs": [
    {
     "name": "stdout",
     "output_type": "stream",
     "text": [
      "0.0179933849722147\n",
      "0.018221862614154816\n",
      "0.015604179352521896\n",
      "0.011343372985720634\n",
      "0.008070185780525208\n",
      "0.007145764771848917\n",
      "0.008349022828042507\n",
      "0.010697530582547188\n",
      "0.013087745755910873\n",
      "0.01514769159257412\n",
      "0.01563914865255356\n",
      "0.014648837968707085\n",
      "0.011781001463532448\n",
      "0.008218244649469852\n",
      "0.005691294092684984\n",
      "0.005119623150676489\n",
      "0.006232914049178362\n",
      "0.008071156218647957\n",
      "0.009691201150417328\n",
      "0.010488628409802914\n",
      "0.010403317399322987\n",
      "0.009501919150352478\n",
      "0.007973588071763515\n",
      "0.006265807896852493\n",
      "0.004760455805808306\n",
      "0.0038057886995375156\n",
      "0.0034343390725553036\n",
      "0.003507066983729601\n",
      "0.003922374919056892\n",
      "0.004681244492530823\n",
      "0.005914608016610146\n",
      "0.008021324872970581\n",
      "0.011592404916882515\n",
      "0.01766347326338291\n",
      "0.026387901976704597\n",
      "0.035626351833343506\n",
      "0.03762512281537056\n",
      "0.027104288339614868\n",
      "0.009607905521988869\n",
      "0.0025790794752538204\n",
      "0.010536104440689087\n",
      "0.019986946135759354\n",
      "0.017564160749316216\n",
      "0.00681722117587924\n",
      "0.0022907578386366367\n",
      "0.007908896543085575\n",
      "0.013220861554145813\n",
      "0.010113298892974854\n",
      "0.0034879317972809076\n",
      "0.0023592410143464804\n",
      "0.0065741268917918205\n",
      "0.009053226560354233\n",
      "0.006303890608251095\n",
      "0.0023515387438237667\n",
      "0.002019015373662114\n",
      "0.004628901835530996\n",
      "0.006141059100627899\n",
      "0.004554920829832554\n",
      "0.0020539858378469944\n",
      "0.0014552776701748371\n",
      "0.002790579106658697\n",
      "0.004049861803650856\n",
      "0.0037283983547240496\n",
      "0.0022971981670707464\n",
      "0.0012231061700731516\n",
      "0.0013219983084127307\n",
      "0.0021393299102783203\n",
      "0.0027384329587221146\n",
      "0.0025900371838361025\n",
      "0.0018830245826393366\n",
      "0.001176079735159874\n",
      "0.0008985691238194704\n",
      "0.0010947724804282188\n",
      "0.0015031186630949378\n",
      "0.0018320942763239145\n",
      "0.001921983202919364\n",
      "0.0017491159960627556\n",
      "0.001443831017240882\n",
      "0.0010979346698150039\n",
      "0.0008210832602344453\n",
      "0.0006739305099472404\n",
      "0.0006392968934960663\n",
      "0.0006838785484433174\n",
      "0.0007924198871478438\n",
      "0.000953241775278002\n",
      "0.0011665498604997993\n",
      "0.001457521109841764\n",
      "0.0018975730054080486\n",
      "0.002549807308241725\n",
      "0.0036206759978085756\n",
      "0.0052670687437057495\n",
      "0.00787570420652628\n",
      "0.011744143441319466\n",
      "0.01719278283417225\n",
      "0.02333054505288601\n",
      "0.027942096814513206\n",
      "0.026940708979964256\n",
      "0.018645303323864937\n",
      "0.00726850563660264\n",
      "0.0007332524401135743\n"
     ]
    }
   ],
   "source": [
    "for _ in range(100):\n",
    "    # Aus dem bisherigen M punkte ziehen (inklusive \"neuem\") (x und y_gnd)\n",
    "    \n",
    "    optimizer.zero_grad()\n",
    "    y = net(x) # M Datenpunkte\n",
    "    loss = criterion(y, y_gnd)\n",
    "    loss.backward()\n",
    "    optimizer.step()\n",
    "    \n",
    "    # Fügst du neuen Datenpunkt zum Datensatz\n",
    "            \n",
    "    # Datenpunkt zu den anderen hinzufügen\n",
    "    print(loss.item())\n"
   ]
  },
  {
   "cell_type": "code",
   "execution_count": null,
   "metadata": {},
   "outputs": [],
   "source": []
  }
 ],
 "metadata": {
  "kernelspec": {
   "display_name": "Python 3",
   "language": "python",
   "name": "python3"
  },
  "language_info": {
   "codemirror_mode": {
    "name": "ipython",
    "version": 3
   },
   "file_extension": ".py",
   "mimetype": "text/x-python",
   "name": "python",
   "nbconvert_exporter": "python",
   "pygments_lexer": "ipython3",
   "version": "3.6.9"
  }
 },
 "nbformat": 4,
 "nbformat_minor": 2
}
