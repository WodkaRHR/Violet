{
 "cells": [
  {
   "cell_type": "code",
   "execution_count": 1,
   "id": "30fb7f44",
   "metadata": {},
   "outputs": [],
   "source": [
    "import agb.string.agbstring\n",
    "import agb.image, agb.palette, agb.lz77\n",
    "import struct\n",
    "from pymap.project import Project\n",
    "import json\n",
    "from PIL import Image, ImageDraw\n",
    "import numpy as np\n",
    "from copy import deepcopy\n",
    "import os\n",
    "from collections import defaultdict\n",
    "import pickle, pathlib\n",
    "from tqdm import tqdm\n",
    "import os.path as osp\n",
    "import itertools"
   ]
  },
  {
   "cell_type": "code",
   "execution_count": 2,
   "id": "13bab43e",
   "metadata": {},
   "outputs": [],
   "source": [
    "with open(os.path.join('.', 'bld', 'violet.gba'), 'rb') as f:\n",
    "    rom = f.read()"
   ]
  },
  {
   "cell_type": "code",
   "execution_count": 10,
   "id": "4a0680b8",
   "metadata": {},
   "outputs": [],
   "source": [
    "image_offset = 0x0111B3C0\n",
    "palette_offset = 0x018951EC"
   ]
  },
  {
   "cell_type": "code",
   "execution_count": 11,
   "id": "006fb4bf",
   "metadata": {},
   "outputs": [
    {
     "data": {
      "image/png": "[encoded data removed]",
      "text/plain": [
       "<PIL.Image.Image image mode=RGBA size=32x64>"
      ]
     },
     "execution_count": 11,
     "metadata": {},
     "output_type": "execute_result"
    }
   ],
   "source": [
    "\n",
    "image = agb.image.Image(rom[image_offset : (image_offset + 32 * 32)], 32, 64)\n",
    "    \n",
    "palette = agb.palette.from_data(rom[palette_offset : palette_offset + 32])\n",
    "image.to_pil_image(palette.to_pil_palette())"
   ]
  },
  {
   "cell_type": "code",
   "execution_count": 2,
   "id": "13c78640",
   "metadata": {},
   "outputs": [],
   "source": [
    "path = os.path.join('asset', 'gfx', 'pokemon_icons', 'gfx_pkmn_mega_jugong_icon.png')\n",
    "img, palette = agb.image.from_file(path)\n",
    "path_greyscale = os.path.join('asset', 'gfx', 'pokemon_icons_greyscale', 'gfx_pokemon_icon_grey.png')\n",
    "_, palette_greyscale = agb.image.from_file(path_greyscale)\n",
    "img.apply_palette(palette, palette_greyscale)"
   ]
  },
  {
   "cell_type": "code",
   "execution_count": 6,
   "id": "58a957c5",
   "metadata": {},
   "outputs": [
    {
     "data": {
      "image/png": "[encoded data removed]",
      "text/plain": [
       "<PIL.Image.Image image mode=RGBA size=32x64>"
      ]
     },
     "execution_count": 6,
     "metadata": {},
     "output_type": "execute_result"
    }
   ],
   "source": [
    "img.to_pil_image(palette_greyscale.to_pil_palette())"
   ]
  },
  {
   "cell_type": "code",
   "execution_count": null,
   "id": "4c9d520d",
   "metadata": {},
   "outputs": [],
   "source": []
  },
  {
   "cell_type": "code",
   "execution_count": 2,
   "id": "b46b33a6",
   "metadata": {},
   "outputs": [],
   "source": [
    "with open(os.path.join('.', 'bld', 'violet.gba'), 'rb') as f:\n",
    "    rom = f.read()\n",
    "project = Project('proj.pmp')"
   ]
  },
  {
   "cell_type": "code",
   "execution_count": 3,
   "id": "8a4ab62a",
   "metadata": {},
   "outputs": [
    {
     "data": {
      "text/plain": [
       "'0x3210426c'"
      ]
     },
     "execution_count": 3,
     "metadata": {},
     "output_type": "execute_result"
    }
   ],
   "source": [
    "offset_icon_pals = 0x3D3054\n",
    "hex(project.model['pointer'].from_data(rom, offset_icon_pals, project, [], []))"
   ]
  },
  {
   "cell_type": "code",
   "execution_count": 9,
   "id": "dc86bada",
   "metadata": {},
   "outputs": [],
   "source": [
    "\n",
    "pals = [agb.palette.from_data(rom[i * 16 * 2 + offset_icon_pals : (i + 1) * 16 * 2 + offset_icon_pals]) for i in range(3)]"
   ]
  },
  {
   "cell_type": "code",
   "execution_count": 28,
   "id": "ee739689",
   "metadata": {},
   "outputs": [
    {
     "data": {
      "text/plain": [
       "[56,\n",
       " 88,\n",
       " 112,\n",
       " 120,\n",
       " 128,\n",
       " 136,\n",
       " 144,\n",
       " 152,\n",
       " 160,\n",
       " 168,\n",
       " 176,\n",
       " 184,\n",
       " 192,\n",
       " 200,\n",
       " 216,\n",
       " 224,\n",
       " 248]"
      ]
     },
     "execution_count": 28,
     "metadata": {},
     "output_type": "execute_result"
    }
   ],
   "source": [
    "colors = np.concatenate([pal.rgbs[1:] for pal in pals])\n",
    "colors_grey = (colors * np.array([.299, .587, .114])).sum(-1)\n",
    "\n",
    "colors_grey_discretized = colors_grey.astype(int) // 8 * 8\n",
    "\n",
    "sorted(set(colors_grey_discretized))"
   ]
  },
  {
   "cell_type": "code",
   "execution_count": 26,
   "id": "f4a21df5",
   "metadata": {},
   "outputs": [],
   "source": [
    "greys = [56,\n",
    "88,\n",
    " 112,\n",
    " 120,\n",
    " 128,\n",
    " 136,\n",
    " 144,\n",
    " 152,\n",
    " 160,\n",
    " 176,\n",
    " 184,\n",
    " 192,\n",
    " 200,\n",
    " 216,\n",
    " 248]\n",
    "assert len(greys) <= 15"
   ]
  },
  {
   "cell_type": "code",
   "execution_count": null,
   "id": "ca7c420a",
   "metadata": {},
   "outputs": [],
   "source": []
  },
  {
   "cell_type": "code",
   "execution_count": null,
   "id": "a923fee3",
   "metadata": {},
   "outputs": [],
   "source": []
  },
  {
   "cell_type": "code",
   "execution_count": null,
   "id": "7fc78195",
   "metadata": {},
   "outputs": [],
   "source": []
  },
  {
   "cell_type": "code",
   "execution_count": null,
   "id": "a95d68e7",
   "metadata": {},
   "outputs": [],
   "source": [
    "# Map from the original pals to the discretized grey in terms of "
   ]
  },
  {
   "cell_type": "code",
   "execution_count": 2,
   "id": "1dc53cf7",
   "metadata": {},
   "outputs": [],
   "source": [
    "from colormath.color_objects import sRGBColor, LabColor\n",
    "from colormath.color_conversions import convert_color\n",
    "from colormath.color_diff import delta_e_cie2000"
   ]
  },
  {
   "cell_type": "code",
   "execution_count": 47,
   "id": "55862787",
   "metadata": {},
   "outputs": [],
   "source": [
    "np.asscalar = float\n",
    "\n",
    "pal_idx_to_grey_pal_idx = [\n",
    "    {0 : 0} for _ in pals\n",
    "]\n",
    "\n",
    "for pal_idx, pal in enumerate(pals):\n",
    "    for color_idx in range(1, 16):\n",
    "        rgb_src = sRGBColor(*(pal.rgbs[color_idx] / 256))\n",
    "        lab_src = convert_color(rgb_src, LabColor)\n",
    "        \n",
    "        best_grey_idx, best_distance = None, np.inf\n",
    "        \n",
    "        for grey_idx, grey in enumerate(greys):\n",
    "            grey_idx += 1\n",
    "            rgb_target = sRGBColor(*(np.array([grey, grey, grey]) / 256))\n",
    "            lab_target = convert_color(rgb_target, LabColor)\n",
    "            distance = delta_e_cie2000(lab_src, lab_target)\n",
    "            if distance < best_distance:\n",
    "                best_grey_idx, best_distance = grey_idx, distance\n",
    "        pal_idx_to_grey_pal_idx[pal_idx][color_idx] = best_grey_idx"
   ]
  },
  {
   "cell_type": "code",
   "execution_count": 48,
   "id": "3272f2b9",
   "metadata": {},
   "outputs": [
    {
     "data": {
      "text/plain": [
       "[{0: 0,\n",
       "  1: 5,\n",
       "  2: 11,\n",
       "  3: 15,\n",
       "  4: 9,\n",
       "  5: 15,\n",
       "  6: 5,\n",
       "  7: 9,\n",
       "  8: 6,\n",
       "  9: 2,\n",
       "  10: 8,\n",
       "  11: 12,\n",
       "  12: 12,\n",
       "  13: 8,\n",
       "  14: 2,\n",
       "  15: 1},\n",
       " {0: 0,\n",
       "  1: 3,\n",
       "  2: 11,\n",
       "  3: 15,\n",
       "  4: 7,\n",
       "  5: 11,\n",
       "  6: 14,\n",
       "  7: 8,\n",
       "  8: 10,\n",
       "  9: 9,\n",
       "  10: 14,\n",
       "  11: 15,\n",
       "  12: 13,\n",
       "  13: 5,\n",
       "  14: 2,\n",
       "  15: 1},\n",
       " {0: 0,\n",
       "  1: 4,\n",
       "  2: 11,\n",
       "  3: 15,\n",
       "  4: 4,\n",
       "  5: 10,\n",
       "  6: 6,\n",
       "  7: 13,\n",
       "  8: 10,\n",
       "  9: 15,\n",
       "  10: 7,\n",
       "  11: 6,\n",
       "  12: 10,\n",
       "  13: 3,\n",
       "  14: 2,\n",
       "  15: 1}]"
      ]
     },
     "execution_count": 48,
     "metadata": {},
     "output_type": "execute_result"
    }
   ],
   "source": [
    "pal_idx_to_grey_pal_idx"
   ]
  },
  {
   "cell_type": "code",
   "execution_count": 49,
   "id": "081fbe4a",
   "metadata": {},
   "outputs": [
    {
     "data": {
      "text/plain": [
       "'\\\\\\\\wsl$\\\\Ubuntu\\\\home\\\\dominik\\\\Violet\\\\Violet'"
      ]
     },
     "execution_count": 49,
     "metadata": {},
     "output_type": "execute_result"
    }
   ],
   "source": [
    "%pwd"
   ]
  },
  {
   "cell_type": "code",
   "execution_count": 4,
   "id": "7c708bd8",
   "metadata": {},
   "outputs": [
    {
     "ename": "TypeError",
     "evalue": "object of type 'module' has no len()",
     "output_type": "error",
     "traceback": [
      "\u001b[1;31m---------------------------------------------------------------------------\u001b[0m",
      "\u001b[1;31mTypeError\u001b[0m                                 Traceback (most recent call last)",
      "Input \u001b[1;32mIn [4]\u001b[0m, in \u001b[0;36m<cell line: 5>\u001b[1;34m()\u001b[0m\n\u001b[0;32m      3\u001b[0m path_greyscale \u001b[38;5;241m=\u001b[39m os\u001b[38;5;241m.\u001b[39mpath\u001b[38;5;241m.\u001b[39mjoin(\u001b[38;5;124m'\u001b[39m\u001b[38;5;124masset\u001b[39m\u001b[38;5;124m'\u001b[39m, \u001b[38;5;124m'\u001b[39m\u001b[38;5;124mgfx\u001b[39m\u001b[38;5;124m'\u001b[39m, \u001b[38;5;124m'\u001b[39m\u001b[38;5;124mpokemon_icons_greyscale\u001b[39m\u001b[38;5;124m'\u001b[39m, \u001b[38;5;124m'\u001b[39m\u001b[38;5;124mgfx_pokemon_icon_grey.png\u001b[39m\u001b[38;5;124m'\u001b[39m)\n\u001b[0;32m      4\u001b[0m _, palette_greyscale \u001b[38;5;241m=\u001b[39m agb\u001b[38;5;241m.\u001b[39mimage\u001b[38;5;241m.\u001b[39mfrom_file(path_greyscale)\n\u001b[1;32m----> 5\u001b[0m \u001b[43mimg\u001b[49m\u001b[38;5;241;43m.\u001b[39;49m\u001b[43mapply_palette\u001b[49m\u001b[43m(\u001b[49m\u001b[43mpalette\u001b[49m\u001b[43m,\u001b[49m\u001b[43m \u001b[49m\u001b[43mpalette_greyscale\u001b[49m\u001b[43m)\u001b[49m\n",
      "File \u001b[1;32m~\\AppData\\Local\\Packages\\PythonSoftwareFoundation.Python.3.10_qbz5n2kfra8p0\\LocalCache\\local-packages\\Python310\\site-packages\\agb\\image.py:76\u001b[0m, in \u001b[0;36mImage.apply_palette\u001b[1;34m(self, palette_src, palette_target)\u001b[0m\n\u001b[0;32m     65\u001b[0m \u001b[38;5;28;01mdef\u001b[39;00m \u001b[38;5;21mapply_palette\u001b[39m(\u001b[38;5;28mself\u001b[39m, palette_src: palette\u001b[38;5;241m.\u001b[39mPalette, palette_target: palette\u001b[38;5;241m.\u001b[39mPalette):\n\u001b[0;32m     66\u001b[0m     \u001b[38;5;124;03m\"\"\" Applies a palette to the image. That is, it remaps the colors of the image to the colors of the palette that\u001b[39;00m\n\u001b[0;32m     67\u001b[0m \u001b[38;5;124;03m    are perceptually closest to the original colors.\u001b[39;00m\n\u001b[0;32m     68\u001b[0m \u001b[38;5;124;03m    \u001b[39;00m\n\u001b[1;32m   (...)\u001b[0m\n\u001b[0;32m     74\u001b[0m \u001b[38;5;124;03m        The target palette.\u001b[39;00m\n\u001b[0;32m     75\u001b[0m \u001b[38;5;124;03m    \"\"\"\u001b[39;00m\n\u001b[1;32m---> 76\u001b[0m     \u001b[38;5;28;01massert\u001b[39;00m \u001b[38;5;28;43mlen\u001b[39;49m\u001b[43m(\u001b[49m\u001b[43mpalette\u001b[49m\u001b[43m)\u001b[49m \u001b[38;5;241m<\u001b[39m\u001b[38;5;241m=\u001b[39m \u001b[38;5;241m2\u001b[39m\u001b[38;5;241m*\u001b[39m\u001b[38;5;241m*\u001b[39m\u001b[38;5;28mself\u001b[39m\u001b[38;5;241m.\u001b[39mdepth, \u001b[38;5;124m'\u001b[39m\u001b[38;5;124mPalette is too large for image depth!\u001b[39m\u001b[38;5;124m'\u001b[39m\n\u001b[0;32m     78\u001b[0m     \u001b[38;5;66;03m# remap palette\u001b[39;00m\n\u001b[0;32m     79\u001b[0m     palette_map \u001b[38;5;241m=\u001b[39m np\u001b[38;5;241m.\u001b[39mzeros(\u001b[38;5;241m2\u001b[39m\u001b[38;5;241m*\u001b[39m\u001b[38;5;241m*\u001b[39m\u001b[38;5;28mself\u001b[39m\u001b[38;5;241m.\u001b[39mdepth, dtype\u001b[38;5;241m=\u001b[39m\u001b[38;5;28mint\u001b[39m)\n",
      "\u001b[1;31mTypeError\u001b[0m: object of type 'module' has no len()"
     ]
    }
   ],
   "source": [
    "path = os.path.join('asset', 'gfx', 'pokemon_icons', 'gfx_pkmn_mega_jugong_icon.png')\n",
    "img, palette = agb.image.from_file(path)\n",
    "path_greyscale = os.path.join('asset', 'gfx', 'pokemon_icons_greyscale', 'gfx_pokemon_icon_grey.png')\n",
    "_, palette_greyscale = agb.image.from_file(path_greyscale)\n",
    "img.apply_palette(palette, palette_greyscale)"
   ]
  },
  {
   "cell_type": "code",
   "execution_count": null,
   "id": "3259f908",
   "metadata": {},
   "outputs": [],
   "source": []
  },
  {
   "cell_type": "code",
   "execution_count": 65,
   "id": "c5ad9d79",
   "metadata": {},
   "outputs": [],
   "source": [
    "palette_grey = agb.palette.Palette([[grey, grey, grey] for grey in greys])"
   ]
  },
  {
   "cell_type": "code",
   "execution_count": 72,
   "id": "aa3d320b",
   "metadata": {},
   "outputs": [
    {
     "data": {
      "image/png": "[encoded data removed]",
      "text/plain": [
       "<PIL.Image.Image image mode=RGBA size=32x64>"
      ]
     },
     "execution_count": 72,
     "metadata": {},
     "output_type": "execute_result"
    }
   ],
   "source": [
    "def map_image_to_greyscale_pal(path, greys):\n",
    "    img, palette = agb.image.from_file(path)\n",
    "    \n",
    "    # remap palette\n",
    "    palette_map = np.zeros(16, dtype=int)\n",
    "    \n",
    "    for color_idx in range(1, 16):\n",
    "        best_distance = np.inf\n",
    "        rgb_src = sRGBColor(*(palette.rgbs[color_idx] / 256))\n",
    "        lab_src = convert_color(rgb_src, LabColor)\n",
    "        for grey_idx, grey in enumerate(greys):\n",
    "            rgb_target = sRGBColor(*(np.array([grey, grey, grey]) / 256))\n",
    "            lab_target = convert_color(rgb_target, LabColor)\n",
    "            distance = delta_e_cie2000(lab_src, lab_target)\n",
    "            if distance < best_distance:\n",
    "                best_distance = distance\n",
    "                palette_map[color_idx] = grey + 1\n",
    "    \n",
    "    img.data = palette_map[img.data]\n",
    "    return img\n",
    "        \n",
    "    \n",
    "img = map_image_to_greyscale_pal(os.path.join('asset', 'gfx', 'pokemon_icons', 'gfx_pkmn_mega_jugong_icon.png'), greys)\n",
    "img.to_pil_image(palette_grey.to_pil_palette())\n"
   ]
  },
  {
   "cell_type": "code",
   "execution_count": 71,
   "id": "0337273f",
   "metadata": {},
   "outputs": [],
   "source": [
    "img.save('default.png', palette_grey.to_pil_palette())"
   ]
  },
  {
   "cell_type": "code",
   "execution_count": null,
   "id": "a06729e8",
   "metadata": {},
   "outputs": [],
   "source": []
  }
 ],
 "metadata": {
  "kernelspec": {
   "display_name": "Python 3 (ipykernel)",
   "language": "python",
   "name": "python3"
  },
  "language_info": {
   "codemirror_mode": {
    "name": "ipython",
    "version": 3
   },
   "file_extension": ".py",
   "mimetype": "text/x-python",
   "name": "python",
   "nbconvert_exporter": "python",
   "pygments_lexer": "ipython3",
   "version": "3.10.11"
  }
 },
 "nbformat": 4,
 "nbformat_minor": 5
}
