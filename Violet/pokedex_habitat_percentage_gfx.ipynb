{
 "cells": [
  {
   "cell_type": "code",
   "execution_count": 2,
   "id": "32af8c8e",
   "metadata": {},
   "outputs": [],
   "source": [
    "import agb.string.agbstring\n",
    "import agb.image, agb.palette, agb.lz77\n",
    "import struct\n",
    "from pymap.project import Project\n",
    "import json\n",
    "from PIL import Image, ImageDraw\n",
    "import numpy as np\n",
    "from copy import deepcopy\n",
    "import os\n",
    "from collections import defaultdict\n",
    "import pickle, pathlib\n",
    "from tqdm import tqdm\n",
    "import os.path as osp\n",
    "import itertools"
   ]
  },
  {
   "cell_type": "code",
   "execution_count": 3,
   "id": "3648bb32",
   "metadata": {},
   "outputs": [],
   "source": [
    "palette = np.zeros((16, 3), dtype=np.uint8)\n",
    "palette[0] = [72, 72, 72] # background\n",
    "palette[1] = [255, 160, 120] # light orange\n",
    "palette[2] = [239, 140, 99] # light orange\n",
    "palette[3] = [214, 107, 82] # dark orange\n",
    "palette[4] = [187, 187, 187]\n",
    "palette[5] = [174, 174, 174]\n",
    "palette = agb.palette.Palette(palette)\n"
   ]
  },
  {
   "cell_type": "code",
   "execution_count": 4,
   "id": "24b4a7bd",
   "metadata": {},
   "outputs": [
    {
     "data": {
      "image/png": "[encoded data removed]",
      "text/plain": [
       "<PIL.Image.Image image mode=RGBA size=64x64>"
      ]
     },
     "execution_count": 4,
     "metadata": {},
     "output_type": "execute_result"
    }
   ],
   "source": [
    "img = agb.image.Image(None, 16, 16, 4)\n",
    "\n",
    "percentage = 26\n",
    "\n",
    "for x, y, in itertools.product(range(16), range(16)):\n",
    "    p = np.array([x - 7, y - 7])\n",
    "    \n",
    "    if (p**2).sum() < 7**2:\n",
    "        #print(x - 7, x - 7, (x - 7)**2 + (y - 7)**2)\n",
    "        phi = np.angle((x-7) + (y-7)*1j) + np.pi\n",
    "        filled = (phi < (1 - percentage / 100) * 2 * np.pi + 0.05)\n",
    "        \n",
    "        if (p**2).sum() >= 45:\n",
    "            img.data[y, x] = 1 if filled else 2\n",
    "\n",
    "        else:\n",
    "            img.data[y, x] = 2 if filled else 3\n",
    "    \n",
    "\n",
    "\n",
    "img.to_pil_image(palette.to_pil_palette()).resize((64, 64), resample=Image.Resampling.NEAREST)\n",
    "\n"
   ]
  },
  {
   "cell_type": "code",
   "execution_count": 9,
   "id": "a2cb37d7",
   "metadata": {},
   "outputs": [
    {
     "data": {
      "image/png": "[encoded data removed]",
      "text/plain": [
       "<PIL.Image.Image image mode=RGBA size=64x1408>"
      ]
     },
     "execution_count": 9,
     "metadata": {},
     "output_type": "execute_result"
    }
   ],
   "source": [
    "percentages = (0, 1, 6, 11, 16, 21, 26, 31, 36, 41, 46, 51, 56, 61, 66, 71, 76, 81, 86, 91, 96, 100)\n",
    "img = agb.image.Image(None, 16, 16 * len(percentages), 4)\n",
    "\n",
    "for x, y, in itertools.product(range(16), range(16)):\n",
    "    p = np.array([x - 7, y - 7])\n",
    "    \n",
    "    if (p**2).sum() < 7**2:\n",
    "        #print(x - 7, x - 7, (x - 7)**2 + (y - 7)**2)\n",
    "        for idx, percentage in enumerate(percentages):\n",
    "            phi = np.angle((x-7) + (y-7)*1j) + np.pi\n",
    "            filled = (phi < (1 - percentage / 100) * 2 * np.pi + 0.05)\n",
    "\n",
    "            if (p**2).sum() >= 45:\n",
    "                img.data[y, x + 16 * idx] = 4 if filled else 1\n",
    "\n",
    "            else:\n",
    "                img.data[y, x + 16 * idx] = 5 if filled else 2\n",
    "    \n",
    "\n",
    "\n",
    "img.to_pil_image(palette.to_pil_palette()).resize((64, 64 * len(percentages)), resample=Image.Resampling.NEAREST)\n"
   ]
  },
  {
   "cell_type": "code",
   "execution_count": 10,
   "id": "0089394b",
   "metadata": {},
   "outputs": [
    {
     "data": {
      "image/png": "[encoded data removed]",
      "text/plain": [
       "<PIL.Image.Image image mode=RGBA size=16x352>"
      ]
     },
     "execution_count": 10,
     "metadata": {},
     "output_type": "execute_result"
    }
   ],
   "source": [
    "\n",
    "img.to_pil_image(palette.to_pil_palette())"
   ]
  },
  {
   "cell_type": "code",
   "execution_count": 32,
   "id": "33a13dec",
   "metadata": {},
   "outputs": [
    {
     "data": {
      "text/plain": [
       "20"
      ]
     },
     "execution_count": 32,
     "metadata": {},
     "output_type": "execute_result"
    }
   ],
   "source": [
    "len(percentages)"
   ]
  },
  {
   "cell_type": "code",
   "execution_count": null,
   "id": "8e2352c0",
   "metadata": {},
   "outputs": [],
   "source": []
  }
 ],
 "metadata": {
  "kernelspec": {
   "display_name": "Python 3 (ipykernel)",
   "language": "python",
   "name": "python3"
  },
  "language_info": {
   "codemirror_mode": {
    "name": "ipython",
    "version": 3
   },
   "file_extension": ".py",
   "mimetype": "text/x-python",
   "name": "python",
   "nbconvert_exporter": "python",
   "pygments_lexer": "ipython3",
   "version": "3.10.11"
  }
 },
 "nbformat": 4,
 "nbformat_minor": 5
}
