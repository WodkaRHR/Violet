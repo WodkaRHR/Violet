{
 "cells": [
  {
   "cell_type": "code",
   "execution_count": 1,
   "metadata": {},
   "outputs": [],
   "source": [
    "import pyclibrary"
   ]
  },
  {
   "cell_type": "code",
   "execution_count": 31,
   "metadata": {},
   "outputs": [
    {
     "data": {
      "text/plain": [
       "[('uses_custom_moves', Type('u8'), None, 1),\n",
       " ('uses_custom_items', Type('u8'), None, 1),\n",
       " ('field_0_filler', Type('u8'), None, 6),\n",
       " ('trainerclass', Type('u8'), None),\n",
       " ('encounter_and_gender', Type('struct encounter_and_gender'), None),\n",
       " ('sprite', Type('u8'), None),\n",
       " ('name', Type('u8', [12]), None),\n",
       " ('items', Type('u16', [4]), None),\n",
       " ('battle_state', Type('u32'), None),\n",
       " ('ai', Type('u16'), None),\n",
       " ('field_1E', Type('u16'), None),\n",
       " ('pokemon_cnt', Type('u8'), None),\n",
       " ('field_21', Type('u8'), None),\n",
       " ('field_22', Type('u8'), None),\n",
       " ('field_23', Type('u8'), None),\n",
       " ('party', Type('trainer_pokemon', '*'), None)]"
      ]
     },
     "execution_count": 31,
     "metadata": {},
     "output_type": "execute_result"
    }
   ],
   "source": [
    "p = pyclibrary.CParser('test.h')\n",
    "p.process_all()\n",
    "p.defs['structs']['anon_struct0']['members']"
   ]
  },
  {
   "cell_type": "code",
   "execution_count": null,
   "metadata": {},
   "outputs": [],
   "source": []
  },
  {
   "cell_type": "code",
   "execution_count": 1,
   "metadata": {},
   "outputs": [],
   "source": [
    "import agb.agbrom\n",
    "import agb.lz77\n",
    "import agb.image\n",
    "import agb.palette\n",
    "import collections\n",
    "import numpy as np\n",
    "import PIL\n",
    "rom = agb.agbrom.Agbrom('bld/violet.gba')"
   ]
  },
  {
   "cell_type": "code",
   "execution_count": 2,
   "metadata": {},
   "outputs": [],
   "source": [
    "pal = agb.palette.from_file('asset/gfx/pokesprites/gfx_pkmn_species_001_pokemon_bisasam_frontsprite.png')\n",
    "# print(pal.rgbs)\n",
    "fspal_off = 0x12CAFF4\n",
    "fspal = agb.palette.from_data(agb.lz77.decompress(rom.bytes, fspal_off))\n",
    "# print(fspal.rgbs)"
   ]
  },
  {
   "cell_type": "code",
   "execution_count": 3,
   "metadata": {},
   "outputs": [],
   "source": [
    "img_off = 0x12CB01C\n",
    "data = agb.lz77.decompress(rom.bytes, img_off)\n",
    "img = agb.image.Image(data, 64, 64, depth=4)\n",
    "data1 = np.array(img.data)"
   ]
  },
  {
   "cell_type": "code",
   "execution_count": 4,
   "metadata": {},
   "outputs": [
    {
     "data": {
      "image/png": "[encoded data removed]",
      "text/plain": [
       "<PIL.Image.Image image mode=P size=64x64 at 0x7F9F5D412208>"
      ]
     },
     "execution_count": 4,
     "metadata": {},
     "output_type": "execute_result"
    }
   ],
   "source": [
    "img.to_pil_image(fspal.to_pil_palette())\n"
   ]
  },
  {
   "cell_type": "code",
   "execution_count": 5,
   "metadata": {},
   "outputs": [],
   "source": [
    "img.save('bisa.png', fspal)"
   ]
  },
  {
   "cell_type": "code",
   "execution_count": 6,
   "metadata": {},
   "outputs": [
    {
     "data": {
      "image/png": "[encoded data removed]",
      "text/plain": [
       "<PIL.Image.Image image mode=P size=64x64 at 0x7F9F5D340860>"
      ]
     },
     "execution_count": 6,
     "metadata": {},
     "output_type": "execute_result"
    }
   ],
   "source": [
    "img2, pal2 = agb.image.from_file('bisa.png')\n",
    "img2.to_pil_image(pal2.to_pil_palette())"
   ]
  },
  {
   "cell_type": "code",
   "execution_count": 5,
   "metadata": {},
   "outputs": [],
   "source": [
    "raw = list(img.raw())\n",
    "img = agb.image.Image(raw, 64, 64, depth=4).to_pil_image(fspal.to_pil_palette())"
   ]
  },
  {
   "cell_type": "code",
   "execution_count": 7,
   "metadata": {},
   "outputs": [
    {
     "data": {
      "text/plain": [
       "True"
      ]
     },
     "execution_count": 7,
     "metadata": {},
     "output_type": "execute_result"
    }
   ],
   "source": [
    "raw == data"
   ]
  },
  {
   "cell_type": "code",
   "execution_count": null,
   "metadata": {},
   "outputs": [],
   "source": [
    "\n",
    "img = PIL.Image.open('asset/gfx/pokesprites/gfx_pkmn_species_001_pokemon_bisasam_frontsprite.png')\n",
    "data2 = np.array(list(img.getdata()))\n",
    "\n",
    "for i in range(64):\n",
    "    print(data1[64 * i : 64 * i + 64], ' : ', data2[64 * i : 64 * i + 64])"
   ]
  },
  {
   "cell_type": "code",
   "execution_count": null,
   "metadata": {},
   "outputs": [],
   "source": [
    "import numpy as np\n",
    "# np.random.seed(444)\n",
    "blocks = np.random.randint(4, size=(10, 16))\n",
    "# Generate random sequences that are compressable\n",
    "for _ in range(100):\n",
    "    sequence = []\n",
    "    for i in range(2048):\n",
    "        sequence += list(blocks[np.random.randint(10)])\n",
    "    compressed = agb.lz77.compress(bytearray(sequence))\n",
    "    rom.bytes = compressed\n",
    "    decompressed = list(agb.lz77.decompress(rom, 0))\n",
    "    if(sequence != decompressed):\n",
    "        print(list(zip(sequence, decompressed)))\n",
    "        s1 = np.array(sequence)\n",
    "        s2 = np.array(decompressed)\n",
    "        print(np.argwhere(s1 != s2))\n",
    "        break\n",
    "    \n",
    "    \n"
   ]
  },
  {
   "cell_type": "code",
   "execution_count": null,
   "metadata": {},
   "outputs": [],
   "source": []
  }
 ],
 "metadata": {
  "kernelspec": {
   "display_name": "Python 3",
   "language": "python",
   "name": "python3"
  },
  "language_info": {
   "codemirror_mode": {
    "name": "ipython",
    "version": 3
   },
   "file_extension": ".py",
   "mimetype": "text/x-python",
   "name": "python",
   "nbconvert_exporter": "python",
   "pygments_lexer": "ipython3",
   "version": "3.6.3"
  }
 },
 "nbformat": 4,
 "nbformat_minor": 2
}
